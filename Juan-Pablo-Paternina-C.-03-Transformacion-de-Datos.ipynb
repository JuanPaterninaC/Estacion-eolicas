{
 "cells": [
  {
   "cell_type": "code",
   "execution_count": 5,
   "metadata": {},
   "outputs": [
    {
     "data": {
      "text/plain": [
       "['sesentas,veintes\\n',\n",
       " '36,22\\n',\n",
       " '25,21\\n',\n",
       " '38,25\\n',\n",
       " '46,20\\n',\n",
       " '55,23\\n',\n",
       " '68,20\\n',\n",
       " '72,21\\n',\n",
       " '65,29\\n',\n",
       " '69,24\\n',\n",
       " '38,22\\n',\n",
       " '67,20\\n',\n",
       " '68,68\\n',\n",
       " '22,22\\n',\n",
       " '60,60\\n',\n",
       " '91,91\\n',\n",
       " '46,46\\n',\n",
       " '62,62\\n',\n",
       " '61,61\\n',\n",
       " '65,65\\n',\n",
       " '55,55']"
      ]
     },
     "execution_count": 5,
     "metadata": {},
     "output_type": "execute_result"
    }
   ],
   "source": [
    "# Lectura del archivo como una lista de strings\n",
    "\n",
    "mail = open('SimpleData - Sheet1.csv', 'r').readlines()\n",
    "mail\n"
   ]
  },
  {
   "cell_type": "code",
   "execution_count": 6,
   "metadata": {},
   "outputs": [
    {
     "data": {
      "text/plain": [
       "['sesentas,veintes',\n",
       " '36,22',\n",
       " '25,21',\n",
       " '38,25',\n",
       " '46,20',\n",
       " '55,23',\n",
       " '68,20',\n",
       " '72,21',\n",
       " '65,29',\n",
       " '69,24',\n",
       " '38,22',\n",
       " '67,20',\n",
       " '68,68',\n",
       " '22,22',\n",
       " '60,60',\n",
       " '91,91',\n",
       " '46,46',\n",
       " '62,62',\n",
       " '61,61',\n",
       " '65,65',\n",
       " '55,5']"
      ]
     },
     "execution_count": 6,
     "metadata": {},
     "output_type": "execute_result"
    }
   ],
   "source": [
    "# elimina los `\\n` al final de cada string\n",
    "\n",
    "mail = [row[0:-1]for row in mail]\n",
    "mail"
   ]
  },
  {
   "cell_type": "code",
   "execution_count": 7,
   "metadata": {},
   "outputs": [
    {
     "data": {
      "text/plain": [
       "[['sesentas', 'veintes'],\n",
       " ['36', '22'],\n",
       " ['25', '21'],\n",
       " ['38', '25'],\n",
       " ['46', '20'],\n",
       " ['55', '23'],\n",
       " ['68', '20'],\n",
       " ['72', '21'],\n",
       " ['65', '29'],\n",
       " ['69', '24'],\n",
       " ['38', '22'],\n",
       " ['67', '20'],\n",
       " ['68', '68'],\n",
       " ['22', '22'],\n",
       " ['60', '60'],\n",
       " ['91', '91'],\n",
       " ['46', '46'],\n",
       " ['62', '62'],\n",
       " ['61', '61'],\n",
       " ['65', '65'],\n",
       " ['55', '5']]"
      ]
     },
     "execution_count": 7,
     "metadata": {},
     "output_type": "execute_result"
    }
   ],
   "source": [
    "# parte el archivo por los ','\n",
    "\n",
    "mail = [row.split(',')for row in mail]\n",
    "mail"
   ]
  },
  {
   "cell_type": "code",
   "execution_count": 8,
   "metadata": {},
   "outputs": [],
   "source": [
    "# separa los nombres y los datos \n",
    "mail = mail[1:]"
   ]
  },
  {
   "cell_type": "code",
   "execution_count": 12,
   "metadata": {},
   "outputs": [
    {
     "data": {
      "text/plain": [
       "[['22', '36'],\n",
       " ['21', '25'],\n",
       " ['25', '38'],\n",
       " ['20', '46'],\n",
       " ['23', '55'],\n",
       " ['20', '68'],\n",
       " ['21', '72'],\n",
       " ['29', '65'],\n",
       " ['24', '69'],\n",
       " ['22', '38'],\n",
       " ['20', '67'],\n",
       " ['68', '68'],\n",
       " ['22', '22'],\n",
       " ['60', '60'],\n",
       " ['91', '91'],\n",
       " ['46', '46'],\n",
       " ['62', '62'],\n",
       " ['61', '61'],\n",
       " ['65', '65'],\n",
       " ['5', '55']]"
      ]
     },
     "execution_count": 12,
     "metadata": {},
     "output_type": "execute_result"
    }
   ],
   "source": [
    "# selección de algunas columnas en diferente orden \n",
    "[[ row[1], row[0]] for row in mail]"
   ]
  },
  {
   "cell_type": "code",
   "execution_count": null,
   "metadata": {},
   "outputs": [],
   "source": []
  }
 ],
 "metadata": {
  "kernelspec": {
   "display_name": "Python 3",
   "language": "python",
   "name": "python3"
  },
  "language_info": {
   "codemirror_mode": {
    "name": "ipython",
    "version": 3
   },
   "file_extension": ".py",
   "mimetype": "text/x-python",
   "name": "python",
   "nbconvert_exporter": "python",
   "pygments_lexer": "ipython3",
   "version": "3.7.4"
  }
 },
 "nbformat": 4,
 "nbformat_minor": 2
}
