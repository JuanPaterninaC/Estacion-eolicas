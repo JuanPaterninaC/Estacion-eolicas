{
 "cells": [
  {
   "cell_type": "markdown",
   "metadata": {},
   "source": [
    "Requerimiento 1.-- Generar una tabla unificada que contenga las siguientes columnas:\n",
    "\n",
    "Nombre de la estación.\n",
    "Fecha en el formato YYYY-MM-DD.\n",
    "Año.\n",
    "Mes.\n",
    "Dia.\n",
    "HHMMSS.\n",
    "Hora (HH).\n",
    "Minuto (MM).\n",
    "Dirección.\n",
    "Velocidad."
   ]
  },
  {
   "cell_type": "code",
   "execution_count": 7,
   "metadata": {},
   "outputs": [],
   "source": [
    "estacion1 = open('files/06/Estacion1.csv').readlines()\n",
    "estacion1 = [row[0:-1]for row in estacion1]\n",
    "estacion1 = [row.split(',') for row in estacion1]\n",
    "estacion1 = estacion1[1:]\n",
    "#estacion1 j\n"
   ]
  },
  {
   "cell_type": "code",
   "execution_count": 99,
   "metadata": {},
   "outputs": [],
   "source": [
    "estacion2 = open('files/06/Estacion2.csv').readlines()\n",
    "estacion2 = [row[0:-1]for row in estacion2]\n",
    "estacion2 = [row.split(',') for row in estacion2]\n",
    "#estacion2 = estacion2[1:]\n",
    "#estacion2"
   ]
  },
  {
   "cell_type": "code",
   "execution_count": 104,
   "metadata": {},
   "outputs": [],
   "source": [
    "estacion3 = open('files/06/Estacion3.csv').readlines()\n",
    "estacion3 = [row[0:-1]for row in estacion3]\n",
    "estacion3 = [row.split(',') for row in estacion3]\n",
    "#estacion3 = estacion3[1:]\n",
    "#estacion3"
   ]
  },
  {
   "cell_type": "code",
   "execution_count": 106,
   "metadata": {},
   "outputs": [],
   "source": [
    "estacion4 = open('files/06/Estacion4.csv').readlines()\n",
    "estacion4 = [row[0:-1]for row in estacion4]\n",
    "estacion4 = [row.split(',') for row in estacion4]\n",
    "#estacion4 = estacion4[1:]\n",
    "#estacion4"
   ]
  },
  {
   "cell_type": "code",
   "execution_count": 13,
   "metadata": {},
   "outputs": [],
   "source": [
    "import pandas\n",
    "import time,datetime\n",
    "#Funcion para leer y tranformar los \n",
    "def filetrans(file):\n",
    "    estacion = open(file, 'r').readlines()\n",
    "    transformacion = [row[0:-1]for row in estacion]\n",
    "    transformacion = [row.split(';')for row in transformacion]\n",
    "    transformacion = transformacion[1:]\n",
    "    return transformacion\n",
    "\n",
    "data = filetrans('files/06/Estacion1.csv')"
   ]
  },
  {
   "cell_type": "code",
   "execution_count": 14,
   "metadata": {},
   "outputs": [],
   "source": [
    "#Agregar columna \n",
    "[[row[0].lower()]for row in data]\n",
    "data = [[str('Estacion1')] + row   for row in data]\n",
    "\n"
   ]
  },
  {
   "cell_type": "code",
   "execution_count": 15,
   "metadata": {},
   "outputs": [],
   "source": [
    "#cambiar formato de fecha\n",
    "def changeFormat(s):\n",
    "    return datetime.datetime.strptime(s, '%d/%m/%y').strftime('%Y/%m/%d')\n"
   ]
  },
  {
   "cell_type": "code",
   "execution_count": 16,
   "metadata": {},
   "outputs": [],
   "source": [
    "#Retornar fecha en formato YY-MM-DD\n",
    "data = [[row[0],changeFormat(row[1]),row[2],row[3],row[4]]for row in data]\n"
   ]
  },
  {
   "cell_type": "code",
   "execution_count": 17,
   "metadata": {},
   "outputs": [],
   "source": [
    "#Cambiar año \n",
    "def YEAR(s):\n",
    "    return datetime.datetime.strptime(s, '%Y/%m/%d').strftime('%Y')\n"
   ]
  },
  {
   "cell_type": "code",
   "execution_count": 18,
   "metadata": {},
   "outputs": [],
   "source": [
    "#Capturar en la columna\n",
    "data = [[YEAR(row[1])] + row for row in data]"
   ]
  },
  {
   "cell_type": "code",
   "execution_count": 19,
   "metadata": {},
   "outputs": [],
   "source": [
    "#ordenar datos\n",
    "data = [[row[1],row[2],row[0],row[3],row[4],row[5],]for row in data]"
   ]
  },
  {
   "cell_type": "code",
   "execution_count": 20,
   "metadata": {},
   "outputs": [],
   "source": [
    "def MONTH(s):\n",
    "    return datetime.datetime.strptime(s, '%Y/%m/%d').month"
   ]
  },
  {
   "cell_type": "code",
   "execution_count": 21,
   "metadata": {},
   "outputs": [],
   "source": [
    "data = [[MONTH(row[1])] + row for row in data]"
   ]
  },
  {
   "cell_type": "code",
   "execution_count": 22,
   "metadata": {},
   "outputs": [],
   "source": [
    "data = [[row[1],row[2],row[3],row[0],row[4],row[5],row[6]]for row in data]\n"
   ]
  },
  {
   "cell_type": "code",
   "execution_count": 23,
   "metadata": {},
   "outputs": [],
   "source": [
    "#Capturar dia del mes\n",
    "def DAYOFMONTH(s):\n",
    "    return datetime.datetime.strptime(s, '%Y/%m/%d').strftime('%d')"
   ]
  },
  {
   "cell_type": "code",
   "execution_count": 24,
   "metadata": {},
   "outputs": [],
   "source": [
    "data = [[DAYOFMONTH(row[1])] + row for row in data]"
   ]
  },
  {
   "cell_type": "code",
   "execution_count": 25,
   "metadata": {},
   "outputs": [],
   "source": [
    "data = [[row[1],row[2],row[3],row[4],row[0],row[5],row[6],row[7]]for row in data]"
   ]
  },
  {
   "cell_type": "code",
   "execution_count": 26,
   "metadata": {},
   "outputs": [],
   "source": [
    "def HOUR(s):\n",
    "    return datetime.datetime.strptime(s, '%H:%M:%S').strftime('%H')"
   ]
  },
  {
   "cell_type": "code",
   "execution_count": 27,
   "metadata": {},
   "outputs": [],
   "source": [
    "data = [[HOUR(row[5])] + row for row in data]\n",
    "\n"
   ]
  },
  {
   "cell_type": "code",
   "execution_count": 30,
   "metadata": {},
   "outputs": [],
   "source": [
    "data = [[row[1],row[2],row[3],row[4],row[5],row[6],row[0],row[7],row[8]]for row in data]\n"
   ]
  },
  {
   "cell_type": "code",
   "execution_count": 37,
   "metadata": {},
   "outputs": [],
   "source": [
    "def MINUTE(s):\n",
    "    return datetime.datetime.strptime(s, '%H:%M:%S').strftime('%M')"
   ]
  },
  {
   "cell_type": "code",
   "execution_count": null,
   "metadata": {},
   "outputs": [],
   "source": [
    "data = [[MINUTE(row[5])] + row for row in data]"
   ]
  },
  {
   "cell_type": "code",
   "execution_count": null,
   "metadata": {},
   "outputs": [],
   "source": [
    "data = [[row[1],row[2],row[3],row[4],row[5],row[6],row[7],row[0],row[8],row[9]]for row in data]\n",
    "data"
   ]
  },
  {
   "cell_type": "code",
   "execution_count": null,
   "metadata": {},
   "outputs": [],
   "source": [
    "import csv\n",
    "with open('files/06/EST1_Trasnf.csv','w')as file:\n",
    "    x = csv.writer(file,                              # crea el objeto x\n",
    "                   delimiter=';')   # sin \" \" para los strings\n",
    "    for r in df:\n",
    "        x.writerow(r)\n"
   ]
  },
  {
   "cell_type": "code",
   "execution_count": null,
   "metadata": {},
   "outputs": [],
   "source": [
    "datos = open('files/06/EST1_Trasnf.csv','r').readlines()\n",
    "datos"
   ]
  }
 ],
 "metadata": {
  "kernelspec": {
   "display_name": "Python 3",
   "language": "python",
   "name": "python3"
  },
  "language_info": {
   "codemirror_mode": {
    "name": "ipython",
    "version": 3
   },
   "file_extension": ".py",
   "mimetype": "text/x-python",
   "name": "python",
   "nbconvert_exporter": "python",
   "pygments_lexer": "ipython3",
   "version": "3.7.4"
  }
 },
 "nbformat": 4,
 "nbformat_minor": 2
}
